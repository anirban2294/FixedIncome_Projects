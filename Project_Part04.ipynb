{
 "cells": [
  {
   "cell_type": "markdown",
   "metadata": {},
   "source": [
    "<a id=\"content\"></a>\n",
    "# QF605 Project: Fixed Income Securities\n",
    "## `Part IV`: Decompounded Options\n",
    "### Team Members:\n",
    ">Anirban CHAKRABORTY<br>\n",
    "Boon Heng GOH<br>\n",
    "Hanley Mahesh RUPAWALLA<br>\n",
    "Kantapong ARUNADITYA<br>\n",
    "Maria Vinitha VIJAYANAND<br>\n",
    "Retwika HAZRA"
   ]
  },
  {
   "cell_type": "markdown",
   "metadata": {},
   "source": [
    "- [Question 1](#Question1) <= Click\n",
    "- [Question 2](#Question2)"
   ]
  },
  {
   "cell_type": "code",
   "execution_count": 1,
   "metadata": {},
   "outputs": [],
   "source": [
    "import pandas as pd\n",
    "import numpy as np\n",
    "\n",
    "from scipy.stats import norm\n",
    "from scipy import interpolate\n",
    "from math import log, sqrt, exp\n",
    "from scipy import integrate\n",
    "from scipy.integrate import quad"
   ]
  },
  {
   "cell_type": "markdown",
   "metadata": {},
   "source": [
    "`Importing results from part I (Bootstrapping Swap Curves)`"
   ]
  },
  {
   "cell_type": "code",
   "execution_count": 2,
   "metadata": {},
   "outputs": [],
   "source": [
    "FS = pd.read_csv('Swap_Rates_Raw.csv', header = 0)  \n",
    "Discount_Fact = pd.read_csv('Rates_Raw.csv', header = 0)"
   ]
  },
  {
   "cell_type": "markdown",
   "metadata": {},
   "source": [
    "`Importing results from part II (Swaption Calibration)`"
   ]
  },
  {
   "cell_type": "code",
   "execution_count": 3,
   "metadata": {},
   "outputs": [],
   "source": [
    "data_SABR = pd.read_csv('SABR_Calibs.csv', header = 0)"
   ]
  },
  {
   "cell_type": "markdown",
   "metadata": {},
   "source": [
    "`Using Black76 for static replication`"
   ]
  },
  {
   "cell_type": "code",
   "execution_count": 4,
   "metadata": {},
   "outputs": [],
   "source": [
    "def Black76Lognormal(F, K, r, sigma, T, opt):\n",
    "    d1 = (log(F/K)+(sigma*sigma/2)*T)/(sigma*sqrt(T))\n",
    "    d2 = d1-sigma*sqrt(T)\n",
    "    if opt == 'Call':\n",
    "        return F*exp(-r*T)*norm.cdf(d1) - K*exp(-r*T)*norm.cdf(d2)\n",
    "    elif opt == 'Put':\n",
    "        return K*exp(-r*T)*norm.cdf(-d2) - F*exp(-r*T)*norm.cdf(-d1)"
   ]
  },
  {
   "cell_type": "markdown",
   "metadata": {},
   "source": [
    "`Defining SABR model for static replication`"
   ]
  },
  {
   "cell_type": "code",
   "execution_count": 5,
   "metadata": {},
   "outputs": [],
   "source": [
    "def SABR(F, K, T, alpha, beta, rho, nu):\n",
    "    X = K\n",
    "    # if K is at-the-money-forward\n",
    "    if abs(F - K) < 1e-12:\n",
    "        numer1 = (((1 - beta)**2)/24)*alpha*alpha/(F**(2 - 2*beta))\n",
    "        numer2 = 0.25*rho*beta*nu*alpha/(F**(1 - beta))\n",
    "        numer3 = ((2 - 3*rho*rho)/24)*nu*nu\n",
    "        VolAtm = alpha*(1 + (numer1 + numer2 + numer3)*T)/(F**(1-beta))\n",
    "        sabrsigma = VolAtm\n",
    "    else:\n",
    "        z = (nu/alpha)*((F*X)**(0.5*(1-beta)))*log(F/X)\n",
    "        zhi = log((((1 - 2*rho*z + z*z)**0.5) + z - rho)/(1 - rho))\n",
    "        numer1 = (((1 - beta)**2)/24)*((alpha*alpha)/((F*X)**(1 - beta)))\n",
    "        numer2 = 0.25*rho*beta*nu*alpha/((F*X)**((1 - beta)/2))\n",
    "        numer3 = ((2 - 3*rho*rho)/24)*nu*nu\n",
    "        numer = alpha*(1 + (numer1 + numer2 + numer3)*T)*z\n",
    "        denom1 = ((1 - beta)**2/24)*(log(F/X))**2\n",
    "        denom2 = (((1 - beta)**4)/1920)*((log(F/X))**4)\n",
    "        denom = ((F*X)**((1 - beta)/2))*(1 + denom1 + denom2)*zhi\n",
    "        sabrsigma = numer/denom\n",
    "\n",
    "    return sabrsigma"
   ]
  },
  {
   "cell_type": "markdown",
   "metadata": {},
   "source": [
    "<a id=\"Question1\"></a>\n",
    "### 1. A decompounded option pays the following at time T = 5y:"
   ]
  },
  {
   "cell_type": "markdown",
   "metadata": {},
   "source": [
    "$$CMS\\ 10y^{\\frac{1}{p}} - 0.04^{\\frac{1}{q}}$$"
   ]
  },
  {
   "cell_type": "markdown",
   "metadata": {},
   "source": [
    "where $p$ = 4 and $q$ = 2. Use static replication to value the PV of this payoff."
   ]
  },
  {
   "cell_type": "markdown",
   "metadata": {},
   "source": [
    "`Differentiating the function g(F)`"
   ]
  },
  {
   "cell_type": "markdown",
   "metadata": {},
   "source": [
    "$$g(K) = F^{\\frac{1}{4}} - 0.2\\ , \\ \\ \\ \\ \\ \\ g'(K) = \\frac{1}{4}F^{-\\frac{3}{4}}\\ , \\ \\ \\ \\ \\ \\ \\ g''(K) = -\\frac{3}{16}F^{-\\frac{7}{4}}$$"
   ]
  },
  {
   "cell_type": "code",
   "execution_count": 6,
   "metadata": {},
   "outputs": [],
   "source": [
    "def g(K):\n",
    "    return K**(1/4) - 0.2\n",
    "\n",
    "def gf(K):\n",
    "    return (1/4)*(K)**(-3/4)\n",
    "\n",
    "def gff(K):\n",
    "    return (-3/16)*(K)**(-7/4)"
   ]
  },
  {
   "cell_type": "markdown",
   "metadata": {},
   "source": [
    "`IRR is define as:`"
   ]
  },
  {
   "cell_type": "markdown",
   "metadata": {},
   "source": [
    "$IRR  (K) = \\sum_{i = 1}^{N \\cdot m} \\frac{1}{m} \\cdot({1 + \\frac{K}{m}})^{-i}$ <br><br>\n",
    "$IRR' (K) = \\sum_{i = 1}^{N \\cdot m} (-i)\\cdot(\\frac{1}{m})^2 \\cdot({1 + \\frac{K}{m}})^{-i-1}$ <br><br>\n",
    "$IRR'' (K) = \\sum_{i = 1}^{N \\cdot m} (-i)\\cdot(-i-1) \\cdot(\\frac{1}{m})^3 \\cdot({1 + \\frac{K}{m}})^{-i-2}$ <br><br>\n",
    "\n",
    "where, <br>\n",
    "&emsp;&emsp;&emsp; delta, $\\delta = \\frac{1}{m}$"
   ]
  },
  {
   "cell_type": "code",
   "execution_count": 7,
   "metadata": {},
   "outputs": [],
   "source": [
    "def IRR(K, Tenor, Delta):\n",
    "    total = 0\n",
    "    for i in np.arange(1, Tenor/Delta +1):\n",
    "        total += Delta*(1 + K* Delta)**(-i)\n",
    "    return total\n",
    "\n",
    "def IRRf(K, Tenor, Delta):  \n",
    "    total = 0\n",
    "    for i in np.arange(1, Tenor/Delta +1):\n",
    "        total += (-i)*(Delta**2)*(1 + K* Delta)**(-i-1)\n",
    "    return total\n",
    "\n",
    "def IRRff(K, Tenor, Delta):\n",
    "    total = 0\n",
    "    for i in np.arange(1, Tenor/Delta +1):\n",
    "        total += (-i)*(-i-1)*(Delta**3)*(1 + K* Delta)**(-i-2)\n",
    "    return total"
   ]
  },
  {
   "cell_type": "markdown",
   "metadata": {},
   "source": [
    "`Using quotient rule, 1st & 2nd order derivatives of h(K) are given by,`"
   ]
  },
  {
   "cell_type": "markdown",
   "metadata": {},
   "source": [
    "$ h(K) = \\frac{g(K)}{IRR(K)}$ <br><br>\n",
    "$ h'(K) = \\frac{IRR(K)g'(K)\\ \\ -\\ \\ g(K)IRR'(K)}{IRR(K)^2}$<br><br>\n",
    "$ h''(K) = \\frac{IRR(K)g''(K)\\ \\ - \\ IRR''(K)g(K)\\ \\ - \\ 2\\cdot IRR'(K)g'(K)}{IRR(K)^2} +\\frac{2\\cdot IRR'(K)^2g(K)}{IRR(K)^3}\\cdot$"
   ]
  },
  {
   "cell_type": "code",
   "execution_count": 8,
   "metadata": {},
   "outputs": [],
   "source": [
    "def h(K,Tenor,Delta):\n",
    "    return g(K)/IRR(K, Tenor, Delta)\n",
    "\n",
    "def hf(K, Tenor, Delta):\n",
    "    top = IRR(K, Tenor, Delta)*gf(K)-g(K)*IRRf(K, Tenor, Delta)\n",
    "    bottom = IRR(K, Tenor, Delta)**2\n",
    "    return top / bottom\n",
    "\n",
    "def hff(K, Tenor, Delta):\n",
    "    top = IRR(K,Tenor,Delta)*gff(K)-IRRff(K,Tenor,Delta)*g(K)-2*IRRf(K,Tenor,Delta)*gf(K)\n",
    "    bottom = IRR(K,Tenor,Delta)**2\n",
    "    term3 = 2*IRRf(K,Tenor,Delta)**2*g(K)/IRR(K,Tenor,Delta)**3\n",
    "    return top/bottom + term3"
   ]
  },
  {
   "cell_type": "code",
   "execution_count": 9,
   "metadata": {},
   "outputs": [],
   "source": [
    "# Forward swap rate - 5y x 10y\n",
    "\n",
    "F = FS.loc[9, 'Swap_Rate']"
   ]
  },
  {
   "cell_type": "code",
   "execution_count": 10,
   "metadata": {},
   "outputs": [],
   "source": [
    "# OIS discount factor - D(0, 5y)\n",
    "\n",
    "D = Discount_Fact.loc[9, 'ON_DF']"
   ]
  },
  {
   "cell_type": "markdown",
   "metadata": {},
   "source": [
    "`Defining Parameter`"
   ]
  },
  {
   "cell_type": "code",
   "execution_count": 11,
   "metadata": {},
   "outputs": [],
   "source": [
    "alpha = data_SABR.loc[9, 'alpha'] # this is alpha parameter for 5y x 10y forward swap\n",
    "beta = 0.9                        # this is pre-determined beta at 0.9\n",
    "rho = data_SABR.loc[9, 'rho']     # this is rho parameter for 5y x 10y forward swap\n",
    "nu = data_SABR.loc[9,  'nu']      # this is nu parameter for 5y x 10y forward swap"
   ]
  },
  {
   "cell_type": "code",
   "execution_count": 12,
   "metadata": {},
   "outputs": [],
   "source": [
    "# Setting Variables\n",
    "\n",
    "Tenor = 10\n",
    "Delta = 0.5\n",
    "T = 5"
   ]
  },
  {
   "cell_type": "markdown",
   "metadata": {},
   "source": [
    "`PV can be valued as,`"
   ]
  },
  {
   "cell_type": "markdown",
   "metadata": {},
   "source": [
    "$$ V_0  = D(0,T)g(F) + \\int_0^F h''(K)V^{rec}(K)dK + \\int_F^\\infty h''(K)V^{pay}(K)dK $$"
   ]
  },
  {
   "cell_type": "code",
   "execution_count": 13,
   "metadata": {},
   "outputs": [],
   "source": [
    "V_rec = integrate.quad(lambda x: hff(x,Tenor,Delta)*Black76Lognormal(F, x, 0, SABR(F, x, T, alpha, 0.9, rho, nu),T, \"Put\"),\n",
    "                                                    0,F)\n",
    "V_pay = integrate.quad(lambda x: hff(x,Tenor,Delta)*Black76Lognormal(F, x, 0, SABR(F, x, T, alpha, 0.9, rho, nu),T, \"Call\"),\n",
    "                                                    F,1000)\n",
    "\n",
    "PVoption = D * g(F) + V_rec[0] + V_pay[0]"
   ]
  },
  {
   "cell_type": "code",
   "execution_count": 14,
   "metadata": {},
   "outputs": [
    {
     "name": "stdout",
     "output_type": "stream",
     "text": [
      "Question 1 - PV of this Payoff is: 0.24191109999759403\n"
     ]
    }
   ],
   "source": [
    "print(\"Question 1 - PV of this Payoff is:\", PVoption)"
   ]
  },
  {
   "cell_type": "markdown",
   "metadata": {},
   "source": [
    "[Back to top](#content)"
   ]
  },
  {
   "cell_type": "markdown",
   "metadata": {},
   "source": [
    "<a id=Question2></a>\n",
    "### 2. Suppose the payoff is now,"
   ]
  },
  {
   "cell_type": "markdown",
   "metadata": {},
   "source": [
    "$$\\left(CMS\\ 10y^{\\frac{1}{p}} - 0.04^{\\frac{1}{q}}\\right)^{+}$$"
   ]
  },
  {
   "cell_type": "markdown",
   "metadata": {},
   "source": [
    "Use static replication to value the PV of this payoff."
   ]
  },
  {
   "cell_type": "markdown",
   "metadata": {},
   "source": [
    "`Consider the payoff to be,`"
   ]
  },
  {
   "cell_type": "markdown",
   "metadata": {},
   "source": [
    "$$g(S_{T}) = S^{\\frac{1}{4}} - 0.2 > 0$$"
   ]
  },
  {
   "cell_type": "markdown",
   "metadata": {},
   "source": [
    "<u>Defining Lower bound limit \"L\""
   ]
  },
  {
   "cell_type": "markdown",
   "metadata": {},
   "source": [
    "$S_{T}^\\frac{1}{4} > 0.2$ <br><br>\n",
    "$S_{T} > 0.2^4$<br><br>\n",
    "$S_{T} > 0.0016 = L$"
   ]
  },
  {
   "cell_type": "code",
   "execution_count": 15,
   "metadata": {},
   "outputs": [],
   "source": [
    "L = 0.2**4"
   ]
  },
  {
   "cell_type": "markdown",
   "metadata": {},
   "source": [
    "`We can value this PV as CMS Caplet and it is given as,`"
   ]
  },
  {
   "cell_type": "markdown",
   "metadata": {},
   "source": [
    "$$CMS\\ \\ Caplet = V^{pay}(L)h'(L) + \\int^{\\infty}_Lh''(K)V^{pay}(K)dK$$"
   ]
  },
  {
   "cell_type": "code",
   "execution_count": 16,
   "metadata": {
    "scrolled": true
   },
   "outputs": [],
   "source": [
    "Tenor = 10\n",
    "Delta = 0.5\n",
    "T = 5\n",
    "\n",
    "period1 = hf(L, Tenor, Delta)*Black76Lognormal(F, L, 0, SABR(F, L, T, alpha, 0.9, rho, nu),T,\"Call\")\n",
    "period2 = integrate.quad(lambda x: hff(x, Tenor,Delta)*Black76Lognormal(F, x, 0, SABR(F, x, T, alpha, 0.9, rho, nu),T,\"Call\"),\n",
    "                                                    L,1000)\n",
    "PV_cap = period1+ period2[0]"
   ]
  },
  {
   "cell_type": "code",
   "execution_count": 17,
   "metadata": {},
   "outputs": [
    {
     "name": "stdout",
     "output_type": "stream",
     "text": [
      "Question 2 - PV of this Payoff is: 0.029444\n"
     ]
    }
   ],
   "source": [
    "print(\"Question 2 - PV of this Payoff is:\", PV_cap.round(6))"
   ]
  },
  {
   "cell_type": "markdown",
   "metadata": {},
   "source": [
    "[Back to top](#content)"
   ]
  }
 ],
 "metadata": {
  "kernelspec": {
   "display_name": "Python 3",
   "language": "python",
   "name": "python3"
  },
  "language_info": {
   "codemirror_mode": {
    "name": "ipython",
    "version": 3
   },
   "file_extension": ".py",
   "mimetype": "text/x-python",
   "name": "python",
   "nbconvert_exporter": "python",
   "pygments_lexer": "ipython3",
   "version": "3.8.8"
  }
 },
 "nbformat": 4,
 "nbformat_minor": 4
}
